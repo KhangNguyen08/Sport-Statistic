{
 "cells": [
  {
   "cell_type": "markdown",
   "id": "810dd43a-5ea0-4688-9a9e-ecba3fec34b6",
   "metadata": {},
   "source": [
    "# **MILESTONE 1: Project Proposal and Data Selection/Preparation**"
   ]
  },
  {
   "cell_type": "markdown",
   "id": "4ece5b71-554c-4de5-9206-64e013947c06",
   "metadata": {},
   "source": [
    "## **STEP 1: Preparing for my Proposal**"
   ]
  },
  {
   "cell_type": "markdown",
   "id": "64fd83b5-eb55-430f-a55c-6c0844b62990",
   "metadata": {},
   "source": [
    "### **1. ClientDataset selection**\n",
    "I prefer this dataset since I am interested in sports and athletes."
   ]
  },
  {
   "cell_type": "code",
   "execution_count": 1,
   "id": "2a7eaf44-ede6-4c5d-9be6-8f2c1a5388ac",
   "metadata": {},
   "outputs": [
    {
     "name": "stdout",
     "output_type": "stream",
     "text": [
      "Requirement already satisfied: pandas in /opt/anaconda3/lib/python3.13/site-packages (2.2.3)\n",
      "Requirement already satisfied: sqlalchemy in /opt/anaconda3/lib/python3.13/site-packages (2.0.39)\n",
      "Requirement already satisfied: ipython-sql in /opt/anaconda3/lib/python3.13/site-packages (0.5.0)\n",
      "Requirement already satisfied: numpy>=1.26.0 in /opt/anaconda3/lib/python3.13/site-packages (from pandas) (2.1.3)\n",
      "Requirement already satisfied: python-dateutil>=2.8.2 in /opt/anaconda3/lib/python3.13/site-packages (from pandas) (2.9.0.post0)\n",
      "Requirement already satisfied: pytz>=2020.1 in /opt/anaconda3/lib/python3.13/site-packages (from pandas) (2024.1)\n",
      "Requirement already satisfied: tzdata>=2022.7 in /opt/anaconda3/lib/python3.13/site-packages (from pandas) (2025.2)\n",
      "Requirement already satisfied: typing-extensions>=4.6.0 in /opt/anaconda3/lib/python3.13/site-packages (from sqlalchemy) (4.12.2)\n",
      "Requirement already satisfied: prettytable in /opt/anaconda3/lib/python3.13/site-packages (from ipython-sql) (3.16.0)\n",
      "Requirement already satisfied: ipython in /opt/anaconda3/lib/python3.13/site-packages (from ipython-sql) (8.30.0)\n",
      "Requirement already satisfied: sqlparse in /opt/anaconda3/lib/python3.13/site-packages (from ipython-sql) (0.5.3)\n",
      "Requirement already satisfied: six in /opt/anaconda3/lib/python3.13/site-packages (from ipython-sql) (1.17.0)\n",
      "Requirement already satisfied: ipython-genutils in /opt/anaconda3/lib/python3.13/site-packages (from ipython-sql) (0.2.0)\n",
      "Requirement already satisfied: decorator in /opt/anaconda3/lib/python3.13/site-packages (from ipython->ipython-sql) (5.1.1)\n",
      "Requirement already satisfied: jedi>=0.16 in /opt/anaconda3/lib/python3.13/site-packages (from ipython->ipython-sql) (0.19.2)\n",
      "Requirement already satisfied: matplotlib-inline in /opt/anaconda3/lib/python3.13/site-packages (from ipython->ipython-sql) (0.1.6)\n",
      "Requirement already satisfied: prompt-toolkit<3.1.0,>=3.0.41 in /opt/anaconda3/lib/python3.13/site-packages (from ipython->ipython-sql) (3.0.43)\n",
      "Requirement already satisfied: pygments>=2.4.0 in /opt/anaconda3/lib/python3.13/site-packages (from ipython->ipython-sql) (2.19.1)\n",
      "Requirement already satisfied: stack-data in /opt/anaconda3/lib/python3.13/site-packages (from ipython->ipython-sql) (0.2.0)\n",
      "Requirement already satisfied: traitlets>=5.13.0 in /opt/anaconda3/lib/python3.13/site-packages (from ipython->ipython-sql) (5.14.3)\n",
      "Requirement already satisfied: pexpect>4.3 in /opt/anaconda3/lib/python3.13/site-packages (from ipython->ipython-sql) (4.8.0)\n",
      "Requirement already satisfied: wcwidth in /opt/anaconda3/lib/python3.13/site-packages (from prompt-toolkit<3.1.0,>=3.0.41->ipython->ipython-sql) (0.2.5)\n",
      "Requirement already satisfied: parso<0.9.0,>=0.8.4 in /opt/anaconda3/lib/python3.13/site-packages (from jedi>=0.16->ipython->ipython-sql) (0.8.4)\n",
      "Requirement already satisfied: ptyprocess>=0.5 in /opt/anaconda3/lib/python3.13/site-packages (from pexpect>4.3->ipython->ipython-sql) (0.7.0)\n",
      "Requirement already satisfied: executing in /opt/anaconda3/lib/python3.13/site-packages (from stack-data->ipython->ipython-sql) (0.8.3)\n",
      "Requirement already satisfied: asttokens in /opt/anaconda3/lib/python3.13/site-packages (from stack-data->ipython->ipython-sql) (3.0.0)\n",
      "Requirement already satisfied: pure-eval in /opt/anaconda3/lib/python3.13/site-packages (from stack-data->ipython->ipython-sql) (0.2.2)\n"
     ]
    }
   ],
   "source": [
    "!pip install pandas sqlalchemy ipython-sql\n",
    "import pandas as pd\n",
    "from sqlalchemy import create_engine"
   ]
  },
  {
   "cell_type": "markdown",
   "id": "40f66dac-cb8e-4d34-acf4-ef4c5d8c9de4",
   "metadata": {},
   "source": [
    "### **2. Import and Clean data**\n",
    "I imported the pandas library as pd. After that, I use pd.read_csv to import the dataset into the notebook.\n",
    "I measured the null values: 9474 AGE, 60171 HEIGHT, 62875 WEIGHT. In terms of Medal, null value is acceptable since not everyone get a medal"
   ]
  },
  {
   "cell_type": "code",
   "execution_count": 2,
   "id": "16b02a88-6666-4214-b745-794494441307",
   "metadata": {},
   "outputs": [],
   "source": [
    "df_athlete = pd.read_csv(\"/Users/khangnguyen/Desktop/Coursera/SQL/athlete_events.csv\")\n",
    "df_region = pd.read_csv(\"/Users/khangnguyen/Desktop/Coursera/SQL/noc_regions.csv\")"
   ]
  },
  {
   "cell_type": "markdown",
   "id": "ad40075e-e29a-461c-878a-0914dafdfbd9",
   "metadata": {},
   "source": [
    "### **3. Initial Exploration**\n",
    "I used describe() to have a look at the mean, median and significant stats."
   ]
  },
  {
   "cell_type": "code",
   "execution_count": 4,
   "id": "20208de4-656b-4ea6-99f0-81e3f6eb4d86",
   "metadata": {},
   "outputs": [
    {
     "data": {
      "text/html": [
       "<div>\n",
       "<style scoped>\n",
       "    .dataframe tbody tr th:only-of-type {\n",
       "        vertical-align: middle;\n",
       "    }\n",
       "\n",
       "    .dataframe tbody tr th {\n",
       "        vertical-align: top;\n",
       "    }\n",
       "\n",
       "    .dataframe thead th {\n",
       "        text-align: right;\n",
       "    }\n",
       "</style>\n",
       "<table border=\"1\" class=\"dataframe\">\n",
       "  <thead>\n",
       "    <tr style=\"text-align: right;\">\n",
       "      <th></th>\n",
       "      <th>ID</th>\n",
       "      <th>Age</th>\n",
       "      <th>Height</th>\n",
       "      <th>Weight</th>\n",
       "      <th>Year</th>\n",
       "    </tr>\n",
       "  </thead>\n",
       "  <tbody>\n",
       "    <tr>\n",
       "      <th>count</th>\n",
       "      <td>271116.000000</td>\n",
       "      <td>261642.000000</td>\n",
       "      <td>210945.000000</td>\n",
       "      <td>208241.000000</td>\n",
       "      <td>271116.000000</td>\n",
       "    </tr>\n",
       "    <tr>\n",
       "      <th>mean</th>\n",
       "      <td>68248.954396</td>\n",
       "      <td>25.556898</td>\n",
       "      <td>175.338970</td>\n",
       "      <td>70.702393</td>\n",
       "      <td>1978.378480</td>\n",
       "    </tr>\n",
       "    <tr>\n",
       "      <th>std</th>\n",
       "      <td>39022.286345</td>\n",
       "      <td>6.393561</td>\n",
       "      <td>10.518462</td>\n",
       "      <td>14.348020</td>\n",
       "      <td>29.877632</td>\n",
       "    </tr>\n",
       "    <tr>\n",
       "      <th>min</th>\n",
       "      <td>1.000000</td>\n",
       "      <td>10.000000</td>\n",
       "      <td>127.000000</td>\n",
       "      <td>25.000000</td>\n",
       "      <td>1896.000000</td>\n",
       "    </tr>\n",
       "    <tr>\n",
       "      <th>25%</th>\n",
       "      <td>34643.000000</td>\n",
       "      <td>21.000000</td>\n",
       "      <td>168.000000</td>\n",
       "      <td>60.000000</td>\n",
       "      <td>1960.000000</td>\n",
       "    </tr>\n",
       "    <tr>\n",
       "      <th>50%</th>\n",
       "      <td>68205.000000</td>\n",
       "      <td>24.000000</td>\n",
       "      <td>175.000000</td>\n",
       "      <td>70.000000</td>\n",
       "      <td>1988.000000</td>\n",
       "    </tr>\n",
       "    <tr>\n",
       "      <th>75%</th>\n",
       "      <td>102097.250000</td>\n",
       "      <td>28.000000</td>\n",
       "      <td>183.000000</td>\n",
       "      <td>79.000000</td>\n",
       "      <td>2002.000000</td>\n",
       "    </tr>\n",
       "    <tr>\n",
       "      <th>max</th>\n",
       "      <td>135571.000000</td>\n",
       "      <td>97.000000</td>\n",
       "      <td>226.000000</td>\n",
       "      <td>214.000000</td>\n",
       "      <td>2016.000000</td>\n",
       "    </tr>\n",
       "  </tbody>\n",
       "</table>\n",
       "</div>"
      ],
      "text/plain": [
       "                  ID            Age         Height         Weight  \\\n",
       "count  271116.000000  261642.000000  210945.000000  208241.000000   \n",
       "mean    68248.954396      25.556898     175.338970      70.702393   \n",
       "std     39022.286345       6.393561      10.518462      14.348020   \n",
       "min         1.000000      10.000000     127.000000      25.000000   \n",
       "25%     34643.000000      21.000000     168.000000      60.000000   \n",
       "50%     68205.000000      24.000000     175.000000      70.000000   \n",
       "75%    102097.250000      28.000000     183.000000      79.000000   \n",
       "max    135571.000000      97.000000     226.000000     214.000000   \n",
       "\n",
       "                Year  \n",
       "count  271116.000000  \n",
       "mean     1978.378480  \n",
       "std        29.877632  \n",
       "min      1896.000000  \n",
       "25%      1960.000000  \n",
       "50%      1988.000000  \n",
       "75%      2002.000000  \n",
       "max      2016.000000  "
      ]
     },
     "execution_count": 4,
     "metadata": {},
     "output_type": "execute_result"
    }
   ],
   "source": [
    "df_athlete.describe()"
   ]
  },
  {
   "cell_type": "code",
   "execution_count": 5,
   "id": "5f608e5e-0bbe-45c3-8e8d-e20379f85dad",
   "metadata": {},
   "outputs": [
    {
     "name": "stdout",
     "output_type": "stream",
     "text": [
      "<class 'pandas.core.frame.DataFrame'>\n",
      "RangeIndex: 271116 entries, 0 to 271115\n",
      "Data columns (total 15 columns):\n",
      " #   Column  Non-Null Count   Dtype  \n",
      "---  ------  --------------   -----  \n",
      " 0   ID      271116 non-null  int64  \n",
      " 1   Name    271116 non-null  object \n",
      " 2   Sex     271116 non-null  object \n",
      " 3   Age     261642 non-null  float64\n",
      " 4   Height  210945 non-null  float64\n",
      " 5   Weight  208241 non-null  float64\n",
      " 6   Team    271116 non-null  object \n",
      " 7   NOC     271116 non-null  object \n",
      " 8   Games   271116 non-null  object \n",
      " 9   Year    271116 non-null  int64  \n",
      " 10  Season  271116 non-null  object \n",
      " 11  City    271116 non-null  object \n",
      " 12  Sport   271116 non-null  object \n",
      " 13  Event   271116 non-null  object \n",
      " 14  Medal   39783 non-null   object \n",
      "dtypes: float64(3), int64(2), object(10)\n",
      "memory usage: 31.0+ MB\n"
     ]
    }
   ],
   "source": [
    "df_athlete.info()"
   ]
  },
  {
   "cell_type": "code",
   "execution_count": 6,
   "id": "8ff5c6c2-f80c-45df-9e24-74494615b647",
   "metadata": {},
   "outputs": [
    {
     "data": {
      "text/plain": [
       "NOC\n",
       "USA    18853\n",
       "FRA    12758\n",
       "GBR    12256\n",
       "ITA    10715\n",
       "GER     9830\n",
       "Name: count, dtype: int64"
      ]
     },
     "execution_count": 6,
     "metadata": {},
     "output_type": "execute_result"
    }
   ],
   "source": [
    "df_athlete['NOC'].value_counts().head(5)"
   ]
  },
  {
   "cell_type": "code",
   "execution_count": 7,
   "id": "8fb09169-a93e-4245-bdf1-b24e7c93b87b",
   "metadata": {},
   "outputs": [
    {
     "data": {
      "text/plain": [
       "NOC\n",
       "USA    5637\n",
       "URS    2503\n",
       "GER    2165\n",
       "GBR    2068\n",
       "FRA    1777\n",
       "ITA    1637\n",
       "SWE    1536\n",
       "CAN    1352\n",
       "AUS    1320\n",
       "RUS    1165\n",
       "Name: Medal, dtype: int64"
      ]
     },
     "execution_count": 7,
     "metadata": {},
     "output_type": "execute_result"
    }
   ],
   "source": [
    "medal_by_region = df_athlete[df_athlete['Medal'].notna()].groupby('NOC')['Medal'].count().sort_values(ascending=False)\n",
    "medal_by_region.head(10)"
   ]
  },
  {
   "cell_type": "code",
   "execution_count": 8,
   "id": "e56c26de-e4f8-4669-902a-03adfa559496",
   "metadata": {},
   "outputs": [
    {
     "data": {
      "text/plain": [
       "Sex\n",
       "M    196594\n",
       "F     74522\n",
       "Name: count, dtype: int64"
      ]
     },
     "execution_count": 8,
     "metadata": {},
     "output_type": "execute_result"
    }
   ],
   "source": [
    "df_athlete['Sex'].value_counts().head(5)"
   ]
  },
  {
   "cell_type": "code",
   "execution_count": 9,
   "id": "f3c35e17-01d8-4155-a6d9-a7f25d855d9a",
   "metadata": {},
   "outputs": [
    {
     "data": {
      "text/plain": [
       "<Axes: >"
      ]
     },
     "execution_count": 9,
     "metadata": {},
     "output_type": "execute_result"
    },
    {
     "data": {
      "image/png": "[encoded data removed]",
      "text/plain": [
       "<Figure size 640x480 with 1 Axes>"
      ]
     },
     "metadata": {},
     "output_type": "display_data"
    }
   ],
   "source": [
    "df_athlete['Age'].hist(bins=20)"
   ]
  },
  {
   "cell_type": "code",
   "execution_count": 10,
   "id": "44170819-8736-4363-b243-871797a752cf",
   "metadata": {},
   "outputs": [
    {
     "data": {
      "text/plain": [
       "<Axes: >"
      ]
     },
     "execution_count": 10,
     "metadata": {},
     "output_type": "execute_result"
    },
    {
     "data": {
      "image/png": "[encoded data removed]",
      "text/plain": [
       "<Figure size 640x480 with 1 Axes>"
      ]
     },
     "metadata": {},
     "output_type": "display_data"
    }
   ],
   "source": [
    "df_athlete['Weight'].hist(bins=20)"
   ]
  },
  {
   "cell_type": "code",
   "execution_count": 11,
   "id": "5292b07c-357f-461d-91cd-ae149e139166",
   "metadata": {},
   "outputs": [
    {
     "data": {
      "text/plain": [
       "<Axes: >"
      ]
     },
     "execution_count": 11,
     "metadata": {},
     "output_type": "execute_result"
    },
    {
     "data": {
      "image/png": "[encoded data removed]",
      "text/plain": [
       "<Figure size 640x480 with 1 Axes>"
      ]
     },
     "metadata": {},
     "output_type": "display_data"
    }
   ],
   "source": [
    "df_athlete['Height'].hist(bins=20)"
   ]
  },
  {
   "cell_type": "markdown",
   "id": "224e1c4e-ac80-4d53-96a9-f1a32a0c43f0",
   "metadata": {},
   "source": [
    "### **4. ERD**"
   ]
  },
  {
   "cell_type": "markdown",
   "id": "f23cda42-229f-47af-a242-99f088997cba",
   "metadata": {},
   "source": [
    "![ERD Olympic](https://i.imgur.com/S8jiDFM.png)"
   ]
  },
  {
   "cell_type": "markdown",
   "id": "9494bc43-7847-4cfe-87c9-72f6e34b2935",
   "metadata": {},
   "source": [
    "## **STEP 2: Develop Project Proposal**"
   ]
  },
  {
   "cell_type": "markdown",
   "id": "c444a24c-cc76-4d2d-aaf6-305442b75107",
   "metadata": {},
   "source": [
    "This project analyzes Olympic athlete data to understand performance trends by country and sport. Interested parties may include sports researchers, media professionals, or fans who want to know which countries and sports have the best performance."
   ]
  },
  {
   "cell_type": "markdown",
   "id": "d90e0612-cb3b-40bd-a089-2a956e3de232",
   "metadata": {},
   "source": [
    "#### **Questions to be answered include:**\n",
    "1. Which countries have won the most medals in recent Olympic Games?\n",
    "2. Is there a relationship between athletes’ age, height, weight, and their likelihood of winning a medal?\n",
    "3. Which sports award the most medals?"
   ]
  },
  {
   "cell_type": "markdown",
   "id": "567fa1ad-7055-41ea-b275-6c576441acab",
   "metadata": {},
   "source": [
    "#### **Assumptions made before analysing:**\n",
    "1. Developed countries tend to win more medals.\n",
    "2. Younger athletes have an advantage in certain sports.\n",
    "3. Height and weight affect performance in specific sports."
   ]
  },
  {
   "cell_type": "markdown",
   "id": "e35942d1-a98b-47e4-9578-a5318a4bfb25",
   "metadata": {},
   "source": [
    "#### **Approach:**\n",
    "- Examine the number of medals won by each country using the NOC and Medal columns.\n",
    "- Create visualizations to identify which countries have the highest medal counts.\n",
    "- Analyze the relationship between athletes’ age, height, and weight and their likelihood of winning a medal using scatter plots and correlation analysis.\n",
    "- Use metrics such as total medal count, success rate, and distribution of physical attributes to evaluate these relationships.\n",
    "- Compare countries and sports to see if larger countries have an advantage and if certain physical characteristics are associated with success in specific sports."
   ]
  },
  {
   "cell_type": "code",
   "execution_count": null,
   "id": "38bda4ef-ea28-4ca1-9514-7e1eb39de082",
   "metadata": {},
   "outputs": [],
   "source": []
  }
 ],
 "metadata": {
  "kernelspec": {
   "display_name": "Python [conda env:base] *",
   "language": "python",
   "name": "conda-base-py"
  },
  "language_info": {
   "codemirror_mode": {
    "name": "ipython",
    "version": 3
   },
   "file_extension": ".py",
   "mimetype": "text/x-python",
   "name": "python",
   "nbconvert_exporter": "python",
   "pygments_lexer": "ipython3",
   "version": "3.13.5"
  }
 },
 "nbformat": 4,
 "nbformat_minor": 5
}
